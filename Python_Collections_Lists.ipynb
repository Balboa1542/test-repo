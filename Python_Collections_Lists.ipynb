{
 "cells": [
  {
   "cell_type": "markdown",
   "metadata": {},
   "source": [
    "<a id=\"home\"></a>"
   ]
  },
  {
   "cell_type": "markdown",
   "metadata": {},
   "source": [
    "# Python Collections"
   ]
  },
  {
   "cell_type": "markdown",
   "metadata": {},
   "source": [
    "## Lists"
   ]
  },
  {
   "cell_type": "markdown",
   "metadata": {},
   "source": [
    "## Tasks:\n",
    "\n",
    "- [Code Challenge 1](#task1)\n",
    "- [Code Challenge 2](#task2)\n",
    "- [Code Challenge 3](#challenge3)\n",
    "- [Code Challenge 4](#challenge4)\n",
    "\n",
    "## Topics & Functions:\n",
    "\n",
    "- [Lists](#lists)\n",
    "- [Adding to lists](#adding)\n",
    "- [Extend lists](#extend)\n",
    "- [Insert into lists](#insert)\n",
    "- [Shopping List App](#shopping)\n",
    "- [Delete from a list](#delete)\n",
    "- [Remove from a list](#remove)\n",
    "- [Pop off a list](#pop)\n",
    "\n",
    "## Quizzes:\n",
    "\n",
    "- [Quiz 1](#quiz1)"
   ]
  },
  {
   "cell_type": "markdown",
   "metadata": {},
   "source": [
    "<a id=\"task1\"></a>"
   ]
  },
  {
   "cell_type": "markdown",
   "metadata": {},
   "source": [
    "### Code Challenge 1:\n",
    "\n",
    "- Create a *list* that contains **3 numbers, 2 strings & 1 sublist with 2 items**. "
   ]
  },
  {
   "cell_type": "code",
   "execution_count": 33,
   "metadata": {
    "collapsed": true
   },
   "outputs": [],
   "source": [
    "# my_list created with required items\n",
    "my_list = [1,2,3,\"string1\",\"string2\",[2,\"items\"]]"
   ]
  },
  {
   "cell_type": "markdown",
   "metadata": {},
   "source": [
    "<a id=\"lists\"></a>\n",
    "[Return to Top](#home)"
   ]
  },
  {
   "cell_type": "markdown",
   "metadata": {},
   "source": [
    "### Lists"
   ]
  },
  {
   "cell_type": "markdown",
   "metadata": {},
   "source": [
    "Now we will work with lists and start by creating a list:"
   ]
  },
  {
   "cell_type": "code",
   "execution_count": 6,
   "metadata": {
    "collapsed": true
   },
   "outputs": [],
   "source": [
    "favorite_things = [\"raindrops on roses\", \"whiskers on kittens\", \"bright copper kettles\"]"
   ]
  },
  {
   "cell_type": "markdown",
   "metadata": {},
   "source": [
    "If we print the list we will see the 3 items included:"
   ]
  },
  {
   "cell_type": "code",
   "execution_count": 7,
   "metadata": {
    "collapsed": false
   },
   "outputs": [
    {
     "data": {
      "text/plain": [
       "['raindrops on roses', 'whiskers on kittens', 'bright copper kettles']"
      ]
     },
     "execution_count": 7,
     "metadata": {},
     "output_type": "execute_result"
    }
   ],
   "source": [
    "favorite_things"
   ]
  },
  {
   "cell_type": "markdown",
   "metadata": {},
   "source": [
    "<a id=\"adding\"></a>\n",
    "[Return to Top](#home)"
   ]
  },
  {
   "cell_type": "markdown",
   "metadata": {},
   "source": [
    "### Adding to lists"
   ]
  },
  {
   "cell_type": "markdown",
   "metadata": {},
   "source": [
    "Now to add just one thing to our list we will use the plus sign."
   ]
  },
  {
   "cell_type": "code",
   "execution_count": 9,
   "metadata": {
    "collapsed": false
   },
   "outputs": [
    {
     "data": {
      "text/plain": [
       "['raindrops on roses',\n",
       " 'whiskers on kittens',\n",
       " 'bright copper kettles',\n",
       " 'warm woolen mittens']"
      ]
     },
     "execution_count": 9,
     "metadata": {},
     "output_type": "execute_result"
    }
   ],
   "source": [
    "favorite_things + [\"warm woolen mittens\"]"
   ]
  },
  {
   "cell_type": "markdown",
   "metadata": {},
   "source": [
    "However you will notice that the addition was not permanant when we print out the list below:"
   ]
  },
  {
   "cell_type": "code",
   "execution_count": 10,
   "metadata": {
    "collapsed": false
   },
   "outputs": [
    {
     "data": {
      "text/plain": [
       "['raindrops on roses', 'whiskers on kittens', 'bright copper kettles']"
      ]
     },
     "execution_count": 10,
     "metadata": {},
     "output_type": "execute_result"
    }
   ],
   "source": [
    "favorite_things"
   ]
  },
  {
   "cell_type": "markdown",
   "metadata": {},
   "source": [
    "To make the addition permanent we will use **\"+=\"**."
   ]
  },
  {
   "cell_type": "code",
   "execution_count": 11,
   "metadata": {
    "collapsed": true
   },
   "outputs": [],
   "source": [
    "favorite_things += [\"warm woolen mittens\"]"
   ]
  },
  {
   "cell_type": "code",
   "execution_count": 12,
   "metadata": {
    "collapsed": false
   },
   "outputs": [
    {
     "data": {
      "text/plain": [
       "['raindrops on roses',\n",
       " 'whiskers on kittens',\n",
       " 'bright copper kettles',\n",
       " 'warm woolen mittens']"
      ]
     },
     "execution_count": 12,
     "metadata": {},
     "output_type": "execute_result"
    }
   ],
   "source": [
    "favorite_things"
   ]
  },
  {
   "cell_type": "markdown",
   "metadata": {},
   "source": [
    "<a id=\"append\"></a>\n",
    "[Return to Top](#home)"
   ]
  },
  {
   "cell_type": "markdown",
   "metadata": {},
   "source": [
    "### Append"
   ]
  },
  {
   "cell_type": "markdown",
   "metadata": {},
   "source": [
    "The **append()** method works pretty much the same way."
   ]
  },
  {
   "cell_type": "code",
   "execution_count": 13,
   "metadata": {
    "collapsed": true
   },
   "outputs": [],
   "source": [
    "favorite_things.append([\"bright paper packages tied with string\"])"
   ]
  },
  {
   "cell_type": "code",
   "execution_count": 14,
   "metadata": {
    "collapsed": false
   },
   "outputs": [
    {
     "data": {
      "text/plain": [
       "['raindrops on roses',\n",
       " 'whiskers on kittens',\n",
       " 'bright copper kettles',\n",
       " 'warm woolen mittens',\n",
       " ['bright paper packages tied with string']]"
      ]
     },
     "execution_count": 14,
     "metadata": {},
     "output_type": "execute_result"
    }
   ],
   "source": [
    "favorite_things"
   ]
  },
  {
   "cell_type": "markdown",
   "metadata": {},
   "source": [
    "Whoops, we accidentally added a list to our list, instead of a string. To fix this we will use the **del()** function with the index. Because this is the last item in the list we can reference its position as **-1**."
   ]
  },
  {
   "cell_type": "code",
   "execution_count": 15,
   "metadata": {
    "collapsed": true
   },
   "outputs": [],
   "source": [
    "del favorite_things[-1]"
   ]
  },
  {
   "cell_type": "code",
   "execution_count": 16,
   "metadata": {
    "collapsed": false
   },
   "outputs": [
    {
     "data": {
      "text/plain": [
       "['raindrops on roses',\n",
       " 'whiskers on kittens',\n",
       " 'bright copper kettles',\n",
       " 'warm woolen mittens']"
      ]
     },
     "execution_count": 16,
     "metadata": {},
     "output_type": "execute_result"
    }
   ],
   "source": [
    "favorite_things"
   ]
  },
  {
   "cell_type": "markdown",
   "metadata": {},
   "source": [
    "Now to use **append()** again but correctly this time passing an item instead."
   ]
  },
  {
   "cell_type": "code",
   "execution_count": 17,
   "metadata": {
    "collapsed": true
   },
   "outputs": [],
   "source": [
    "favorite_things.append(\"bright paper packages tied with string\")"
   ]
  },
  {
   "cell_type": "code",
   "execution_count": 18,
   "metadata": {
    "collapsed": false
   },
   "outputs": [
    {
     "data": {
      "text/plain": [
       "['raindrops on roses',\n",
       " 'whiskers on kittens',\n",
       " 'bright copper kettles',\n",
       " 'warm woolen mittens',\n",
       " 'bright paper packages tied with string']"
      ]
     },
     "execution_count": 18,
     "metadata": {},
     "output_type": "execute_result"
    }
   ],
   "source": [
    "favorite_things"
   ]
  },
  {
   "cell_type": "markdown",
   "metadata": {},
   "source": [
    "<a id=\"extend\"></a>\n",
    "[Return to Top](#home)"
   ]
  },
  {
   "cell_type": "markdown",
   "metadata": {},
   "source": [
    "### Extend lists"
   ]
  },
  {
   "cell_type": "markdown",
   "metadata": {},
   "source": [
    "**Extend()** however will allow us to add itesm from one list onto the end of another list."
   ]
  },
  {
   "cell_type": "code",
   "execution_count": 19,
   "metadata": {
    "collapsed": true
   },
   "outputs": [],
   "source": [
    "favorite_things.extend([\"cream colored ponies\",\"crisp apple strudels\"])"
   ]
  },
  {
   "cell_type": "code",
   "execution_count": 20,
   "metadata": {
    "collapsed": false
   },
   "outputs": [
    {
     "data": {
      "text/plain": [
       "['raindrops on roses',\n",
       " 'whiskers on kittens',\n",
       " 'bright copper kettles',\n",
       " 'warm woolen mittens',\n",
       " 'bright paper packages tied with string',\n",
       " 'cream colored ponies',\n",
       " 'crisp apple strudels']"
      ]
     },
     "execution_count": 20,
     "metadata": {},
     "output_type": "execute_result"
    }
   ],
   "source": [
    "favorite_things"
   ]
  },
  {
   "cell_type": "markdown",
   "metadata": {},
   "source": [
    "**Extend()** can be used with any iterable even if it isn't a list. Example below:"
   ]
  },
  {
   "cell_type": "code",
   "execution_count": 21,
   "metadata": {
    "collapsed": true
   },
   "outputs": [],
   "source": [
    "a = [1,2,3]"
   ]
  },
  {
   "cell_type": "code",
   "execution_count": 22,
   "metadata": {
    "collapsed": true
   },
   "outputs": [],
   "source": [
    "a.extend(\"abc\")"
   ]
  },
  {
   "cell_type": "code",
   "execution_count": 23,
   "metadata": {
    "collapsed": false
   },
   "outputs": [
    {
     "data": {
      "text/plain": [
       "[1, 2, 3, 'a', 'b', 'c']"
      ]
     },
     "execution_count": 23,
     "metadata": {},
     "output_type": "execute_result"
    }
   ],
   "source": [
    "a"
   ]
  },
  {
   "cell_type": "markdown",
   "metadata": {},
   "source": [
    "As you can see the *string* of \"abc\" was added as list items when it is iterated."
   ]
  },
  {
   "cell_type": "markdown",
   "metadata": {},
   "source": [
    "<a id=\"insert\"></a>\n",
    "[Return to Top](#home)"
   ]
  },
  {
   "cell_type": "markdown",
   "metadata": {},
   "source": [
    "### Insert into lists"
   ]
  },
  {
   "cell_type": "markdown",
   "metadata": {},
   "source": [
    "**Insert()** however lets us add an item to a list at whatever index we designate. Essentially the reverse of **del()**. See the example below of removing **\"whiskers on kittens\"** at index **1** and the insertion of the string back into index **1**."
   ]
  },
  {
   "cell_type": "code",
   "execution_count": 24,
   "metadata": {
    "collapsed": true
   },
   "outputs": [],
   "source": [
    "del favorite_things[1]"
   ]
  },
  {
   "cell_type": "code",
   "execution_count": 25,
   "metadata": {
    "collapsed": false
   },
   "outputs": [
    {
     "data": {
      "text/plain": [
       "['raindrops on roses',\n",
       " 'bright copper kettles',\n",
       " 'warm woolen mittens',\n",
       " 'bright paper packages tied with string',\n",
       " 'cream colored ponies',\n",
       " 'crisp apple strudels']"
      ]
     },
     "execution_count": 25,
     "metadata": {},
     "output_type": "execute_result"
    }
   ],
   "source": [
    "favorite_things"
   ]
  },
  {
   "cell_type": "code",
   "execution_count": 26,
   "metadata": {
    "collapsed": true
   },
   "outputs": [],
   "source": [
    "favorite_things.insert(1, \"whiskers on kittens\")"
   ]
  },
  {
   "cell_type": "code",
   "execution_count": 27,
   "metadata": {
    "collapsed": false
   },
   "outputs": [
    {
     "data": {
      "text/plain": [
       "['raindrops on roses',\n",
       " 'whiskers on kittens',\n",
       " 'bright copper kettles',\n",
       " 'warm woolen mittens',\n",
       " 'bright paper packages tied with string',\n",
       " 'cream colored ponies',\n",
       " 'crisp apple strudels']"
      ]
     },
     "execution_count": 27,
     "metadata": {},
     "output_type": "execute_result"
    }
   ],
   "source": [
    "favorite_things"
   ]
  },
  {
   "cell_type": "markdown",
   "metadata": {},
   "source": [
    "As you can see **\"whiskers on kittens\"** was added back to the list at item **1** that we specified. Note that we have been changing the list rather than creating different variations of the list. This is an example of the mutability of lists."
   ]
  },
  {
   "cell_type": "markdown",
   "metadata": {},
   "source": [
    "<a id=\"task2\"><a/>\n",
    "[Return to Top](#home)"
   ]
  },
  {
   "cell_type": "markdown",
   "metadata": {},
   "source": [
    "### Code Challenge 2:\n",
    "\n",
    "- Create a list variable called \"best\" with 3 items\n",
    "- Using .extend(), .append(), or +, add two new items onto the end of best\n",
    "- Use the .insert() method to place the string \"start\" at the beginning of the \"best\" list"
   ]
  },
  {
   "cell_type": "code",
   "execution_count": 34,
   "metadata": {
    "collapsed": true
   },
   "outputs": [],
   "source": [
    "# best created with required number of items\n",
    "best = [\"apples\",\"oranges\",\"bananas\"]"
   ]
  },
  {
   "cell_type": "code",
   "execution_count": 35,
   "metadata": {
    "collapsed": false
   },
   "outputs": [],
   "source": [
    "# Extend() was used to add 2 items to list\n",
    "best.extend([\"grapes\",\"pears\"])"
   ]
  },
  {
   "cell_type": "code",
   "execution_count": 36,
   "metadata": {
    "collapsed": false
   },
   "outputs": [
    {
     "data": {
      "text/plain": [
       "['apples', 'oranges', 'bananas', 'grapes', 'pears']"
      ]
     },
     "execution_count": 36,
     "metadata": {},
     "output_type": "execute_result"
    }
   ],
   "source": [
    "best"
   ]
  },
  {
   "cell_type": "code",
   "execution_count": 42,
   "metadata": {
    "collapsed": true
   },
   "outputs": [],
   "source": [
    "# Insert() was used to add \"start\" to index 0\n",
    "best.insert(0,\"start\")"
   ]
  },
  {
   "cell_type": "code",
   "execution_count": 41,
   "metadata": {
    "collapsed": false
   },
   "outputs": [
    {
     "data": {
      "text/plain": [
       "['start', 'apples', 'oranges', 'bananas', 'grapes', 'pears']"
      ]
     },
     "execution_count": 41,
     "metadata": {},
     "output_type": "execute_result"
    }
   ],
   "source": [
    "best"
   ]
  },
  {
   "cell_type": "markdown",
   "metadata": {},
   "source": [
    "<a id=\"shopping\".<a/>\n",
    "[Return to Top](#home)"
   ]
  },
  {
   "cell_type": "markdown",
   "metadata": {},
   "source": [
    "### Shopping List App"
   ]
  },
  {
   "cell_type": "code",
   "execution_count": 74,
   "metadata": {
    "collapsed": true
   },
   "outputs": [],
   "source": [
    "# Needed for new function to clear screen between states\n",
    "# Alows us to look at information about the machine running the app\n",
    "# Also allows to run system level scripts like \"clear\" on non-Windows computers\n",
    "import os\n",
    "#While in our iPython environment we will use clear_output\n",
    "from IPython.display import clear_output"
   ]
  },
  {
   "cell_type": "code",
   "execution_count": 121,
   "metadata": {
    "collapsed": false
   },
   "outputs": [
    {
     "name": "stdout",
     "output_type": "stream",
     "text": [
      "Here's your list:\n",
      "1. apples\n",
      "----------\n"
     ]
    }
   ],
   "source": [
    "shopping_list = []\n",
    "\n",
    "# This will clear the screen\n",
    "# \"nt\" identifies version of Windows that need to call \"cls\"\n",
    "# For any other OS we will call \"clear\"\n",
    "def clear_screen():\n",
    "    os.system(\"cls\" if os.name == \"nt\" else \"clear\")\n",
    "    if os.name == \"posix\":\n",
    "        clear_output()\n",
    "\n",
    "def show_help():\n",
    "    clear_screen()\n",
    "    print(\"What should we pick up at the store?\")\n",
    "    print(\"\"\"\n",
    "            Enter 'DONE' to stop adding items.\n",
    "            Enter 'HELP' for this help.\n",
    "            Enter 'SHOW' to see your current list.\n",
    "            Enter 'REMOVE' to delete an item from your list.\n",
    "            \"\"\")\n",
    "\n",
    "def add_to_list(item):\n",
    "    show_list()\n",
    "    if len(shopping_list):\n",
    "        position = input(\"Where should I add {}?\\n\"\n",
    "                         \"Press ENTER to add to the end of the list\"\n",
    "                         \"> \".format(item))\n",
    "    else:\n",
    "        position = 0\n",
    "    try:\n",
    "        position = abs(int(position))\n",
    "    except ValueError:\n",
    "        position = None\n",
    "    if position is not None:\n",
    "        shopping_list.insert(position-1, item)\n",
    "    else:\n",
    "        shopping_list.append(new_item)\n",
    "    show_list()\n",
    "    \n",
    "def show_list():\n",
    "    clear_screen()\n",
    "    index = 1\n",
    "    print(\"Here's your list:\")\n",
    "    for item in shopping_list:\n",
    "        print(\"{}. {}\".format(index,item))\n",
    "        index += 1\n",
    "    print(\"-\"*10)\n",
    "\n",
    "def remove_from_list():\n",
    "    show_list()\n",
    "    what_to_remove = input(\"What would you like to remove?\\n> \")\n",
    "    try:\n",
    "        shopping_list.remove(what_to_remove)\n",
    "    except ValueError:\n",
    "        pass\n",
    "    show_list()\n",
    "    \n",
    "show_help()\n",
    "\n",
    "while True:\n",
    "    new_item = input(\"> \")\n",
    "\n",
    "    if new_item.upper() == 'DONE' or new_item.upper() == 'QUIT':\n",
    "        break\n",
    "    elif new_item.upper() == 'HELP':\n",
    "        show_help()\n",
    "        continue\n",
    "    elif new_item.upper() == 'SHOW':\n",
    "        show_list()\n",
    "        continue\n",
    "    elif new_item.upper() == 'REMOVE':\n",
    "        remove_from_list()\n",
    "    else:\n",
    "        add_to_list(new_item)\n",
    "\n",
    "show_list()"
   ]
  },
  {
   "cell_type": "markdown",
   "metadata": {},
   "source": [
    "<a id=\"quiz1\"></a>\n",
    "[Return to Top](#home)"
   ]
  },
  {
   "cell_type": "markdown",
   "metadata": {},
   "source": [
    "## Quiz 1"
   ]
  },
  {
   "cell_type": "markdown",
   "metadata": {},
   "source": [
    "#### Question 1:\n",
    "What does the first_list.extend(second_list) method do?\n",
    "1. Nothing, this isn't a real method.\n",
    "2. Inserts the second list into the first list.\n",
    "3. Adds the contents of the first list into the second list.\n",
    "4. Adds the contents of the second list into the first list."
   ]
  },
  {
   "cell_type": "code",
   "execution_count": 1,
   "metadata": {
    "collapsed": false
   },
   "outputs": [
    {
     "name": "stdout",
     "output_type": "stream",
     "text": [
      "4 is Correct!\n",
      "Press ENTER to continue\n",
      "\n"
     ]
    }
   ],
   "source": [
    "# Attempt answering the question:\n",
    "%run quiz1_q1.py"
   ]
  },
  {
   "cell_type": "markdown",
   "metadata": {},
   "source": [
    "#### Question 2:\n",
    "\n",
    "What is the first argument to the .insert() method?\n",
    "1. A boolean that says whether or not to create a new list.\n",
    "2. Index - the position in the list that you want something inserted.\n",
    "3. Content - the thing you want instered into the list.\n",
    "4. The list to insert something into."
   ]
  },
  {
   "cell_type": "code",
   "execution_count": 99,
   "metadata": {
    "collapsed": false
   },
   "outputs": [
    {
     "name": "stdout",
     "output_type": "stream",
     "text": [
      "2 is Correct!\n"
     ]
    }
   ],
   "source": [
    "# Attempt answering the question:\n",
    "%run quiz1_q2.py"
   ]
  },
  {
   "cell_type": "markdown",
   "metadata": {},
   "source": [
    "#### Question 3:\n",
    "\n",
    "    letters = [\"A\", \"B\", \"C\"]\n",
    "    letters.append([\"D\", \"E\", \"F\"])\n",
    "What will letters be at the end of this?\n",
    "1. [\"A\", \"B\", \"C\",[\"D\", \"E\", \"F\"]]\n",
    "2. [[\"A\", \"B\", \"C\"],\"D\", \"E\", \"F\"]\n",
    "3. It'll throw an error because you can't append a list to a list.\n",
    "4. [\"A\", \"B\", \"C\", \"D\", \"E\", \"F\"]"
   ]
  },
  {
   "cell_type": "code",
   "execution_count": 100,
   "metadata": {
    "collapsed": false
   },
   "outputs": [
    {
     "name": "stdout",
     "output_type": "stream",
     "text": [
      "1 is Correct!\n"
     ]
    }
   ],
   "source": [
    "# Attempt answering the question:\n",
    "%run quiz1_q3.py"
   ]
  },
  {
   "cell_type": "markdown",
   "metadata": {},
   "source": [
    "#### Question 4:\n",
    "\n",
    "I want my_list to have 1 as the last item.\n",
    "\n",
    "Complete this method call:\n",
    "\n",
    "my_list.`__________`(1)"
   ]
  },
  {
   "cell_type": "code",
   "execution_count": 108,
   "metadata": {
    "collapsed": false
   },
   "outputs": [
    {
     "name": "stdout",
     "output_type": "stream",
     "text": [
      "my_list.append(1) is Correct!\n"
     ]
    }
   ],
   "source": [
    "# Attempt answering the question:\n",
    "%run quiz1_q4.py"
   ]
  },
  {
   "cell_type": "markdown",
   "metadata": {},
   "source": [
    "#### Question 5:\n",
    "\n",
    "What does the list() function do?\n",
    "1. Create a new list.\n",
    "2. Turns an iterable into a list.\n",
    "3. Checks to see if something is a list.\n",
    "4. Both 1 & 2."
   ]
  },
  {
   "cell_type": "code",
   "execution_count": 110,
   "metadata": {
    "collapsed": false
   },
   "outputs": [
    {
     "name": "stdout",
     "output_type": "stream",
     "text": [
      "4 is Correct!\n"
     ]
    }
   ],
   "source": [
    "# Attempt answering the question:\n",
    "%run quiz1_q5.py"
   ]
  },
  {
   "cell_type": "markdown",
   "metadata": {},
   "source": [
    "#### Question 6:\n",
    "\n",
    "The + symbol is used to concatenate two lists together, just like with strings.\n",
    "\n",
    "1. True\n",
    "2. False"
   ]
  },
  {
   "cell_type": "code",
   "execution_count": 109,
   "metadata": {
    "collapsed": false
   },
   "outputs": [
    {
     "name": "stdout",
     "output_type": "stream",
     "text": [
      "1 is Correct!\n"
     ]
    }
   ],
   "source": [
    "# Attempt answering the question:\n",
    "%run quiz1_q6.py"
   ]
  },
  {
   "cell_type": "markdown",
   "metadata": {},
   "source": [
    "<a id=\"delete\"><a/>\n",
    "[Return to Top](#home)"
   ]
  },
  {
   "cell_type": "markdown",
   "metadata": {},
   "source": [
    "### Delete from a list"
   ]
  },
  {
   "cell_type": "code",
   "execution_count": 111,
   "metadata": {
    "collapsed": true
   },
   "outputs": [],
   "source": [
    "alpha_list = [\"a\", \"b\", \"z\", \"c\", \"d\"]"
   ]
  },
  {
   "cell_type": "code",
   "execution_count": 112,
   "metadata": {
    "collapsed": true
   },
   "outputs": [],
   "source": [
    "del alpha_list[2]"
   ]
  },
  {
   "cell_type": "code",
   "execution_count": 113,
   "metadata": {
    "collapsed": false
   },
   "outputs": [
    {
     "data": {
      "text/plain": [
       "['a', 'b', 'c', 'd']"
      ]
     },
     "execution_count": 113,
     "metadata": {},
     "output_type": "execute_result"
    }
   ],
   "source": [
    "alpha_list"
   ]
  },
  {
   "cell_type": "markdown",
   "metadata": {},
   "source": [
    "<a id=\"remove\"><a/>\n",
    "[Return to Top](#home)"
   ]
  },
  {
   "cell_type": "markdown",
   "metadata": {},
   "source": [
    "### Remove from a list"
   ]
  },
  {
   "cell_type": "code",
   "execution_count": 114,
   "metadata": {
    "collapsed": true
   },
   "outputs": [],
   "source": [
    "my_list = [1,2,3,1]"
   ]
  },
  {
   "cell_type": "markdown",
   "metadata": {},
   "source": [
    "Lets use the **remove()** command to remove the last 1."
   ]
  },
  {
   "cell_type": "code",
   "execution_count": 115,
   "metadata": {
    "collapsed": true
   },
   "outputs": [],
   "source": [
    "my_list.remove(1)"
   ]
  },
  {
   "cell_type": "code",
   "execution_count": 116,
   "metadata": {
    "collapsed": false
   },
   "outputs": [
    {
     "data": {
      "text/plain": [
       "[2, 3, 1]"
      ]
     },
     "execution_count": 116,
     "metadata": {},
     "output_type": "execute_result"
    }
   ],
   "source": [
    "my_list"
   ]
  },
  {
   "cell_type": "markdown",
   "metadata": {},
   "source": [
    "Unfortunately that removed the wrong 1. That's because it removes the first instance."
   ]
  },
  {
   "cell_type": "code",
   "execution_count": 117,
   "metadata": {
    "collapsed": true
   },
   "outputs": [],
   "source": [
    "my_list.remove(1)"
   ]
  },
  {
   "cell_type": "code",
   "execution_count": 118,
   "metadata": {
    "collapsed": false
   },
   "outputs": [
    {
     "data": {
      "text/plain": [
       "[2, 3]"
      ]
     },
     "execution_count": 118,
     "metadata": {},
     "output_type": "execute_result"
    }
   ],
   "source": [
    "my_list"
   ]
  },
  {
   "cell_type": "markdown",
   "metadata": {},
   "source": [
    "my_list.remove(1) will now return a ValueError because there are no **1's** left in the list."
   ]
  },
  {
   "cell_type": "markdown",
   "metadata": {},
   "source": [
    "<a id=\"challenge3\"><a/>\n",
    "[Return to Top](#home)"
   ]
  },
  {
   "cell_type": "markdown",
   "metadata": {},
   "source": [
    "### Code Challenge 3:\n",
    "\n",
    "OK, I need you to finish writing a function for me. The function *disemvowel* takes a single word as a parameter and then returns that word at the end.\n",
    "\n",
    "I need you to make it so, inside of the function, all of the vowels **(\"a\", \"e\", \"i\", \"o\", and \"u\")** are removed from the word. Solve this however you want, it's totally up to you!\n",
    "\n",
    "Oh, be sure to look for both uppercase and lowercase vowels!"
   ]
  },
  {
   "cell_type": "code",
   "execution_count": 143,
   "metadata": {
    "collapsed": true
   },
   "outputs": [],
   "source": [
    "def disemvowel(word):\n",
    "    ls = []\n",
    "    vowels = [\"a\",\"e\",\"i\",\"o\",\"u\",\"A\",\"E\",\"I\",\"O\",\"U\"]\n",
    "    ls += word\n",
    "    for vowel in vowels:\n",
    "        try:\n",
    "            ls.remove(vowel)\n",
    "        except ValueError:\n",
    "            pass\n",
    "    word = ''.join(ls)\n",
    "    return word"
   ]
  },
  {
   "cell_type": "markdown",
   "metadata": {},
   "source": [
    "We will test this on the word **because** with some vowels uppercase and lowercase."
   ]
  },
  {
   "cell_type": "code",
   "execution_count": 144,
   "metadata": {
    "collapsed": true
   },
   "outputs": [],
   "source": [
    "test = \"BecAusE\""
   ]
  },
  {
   "cell_type": "code",
   "execution_count": 145,
   "metadata": {
    "collapsed": false
   },
   "outputs": [
    {
     "data": {
      "text/plain": [
       "'Bcs'"
      ]
     },
     "execution_count": 145,
     "metadata": {},
     "output_type": "execute_result"
    }
   ],
   "source": [
    "disemvowel(test)"
   ]
  },
  {
   "cell_type": "markdown",
   "metadata": {},
   "source": [
    "<a id=\"pop\"><a/>\n",
    "[Return to Top](#home)"
   ]
  },
  {
   "cell_type": "markdown",
   "metadata": {},
   "source": [
    "### Pop item off list"
   ]
  },
  {
   "cell_type": "markdown",
   "metadata": {},
   "source": [
    "This will not only remove an item from a list but it will return the item from the command so it can be stored and saved if necessary."
   ]
  },
  {
   "cell_type": "code",
   "execution_count": 146,
   "metadata": {
    "collapsed": true
   },
   "outputs": [],
   "source": [
    "names = [\"Brady\", \"Sikander\", \"Joe\", \"Dylan\", \"Carlos\", \"Josh\"]"
   ]
  },
  {
   "cell_type": "code",
   "execution_count": 147,
   "metadata": {
    "collapsed": true
   },
   "outputs": [],
   "source": [
    "name1 = names.pop()"
   ]
  },
  {
   "cell_type": "code",
   "execution_count": 148,
   "metadata": {
    "collapsed": false
   },
   "outputs": [
    {
     "data": {
      "text/plain": [
       "'Josh'"
      ]
     },
     "execution_count": 148,
     "metadata": {},
     "output_type": "execute_result"
    }
   ],
   "source": [
    "name1"
   ]
  },
  {
   "cell_type": "markdown",
   "metadata": {},
   "source": [
    "Without an index declaration **pop()** remove the last item."
   ]
  },
  {
   "cell_type": "code",
   "execution_count": 149,
   "metadata": {
    "collapsed": true
   },
   "outputs": [],
   "source": [
    "name2 = names.pop(3)"
   ]
  },
  {
   "cell_type": "code",
   "execution_count": 150,
   "metadata": {
    "collapsed": false
   },
   "outputs": [
    {
     "data": {
      "text/plain": [
       "'Dylan'"
      ]
     },
     "execution_count": 150,
     "metadata": {},
     "output_type": "execute_result"
    }
   ],
   "source": [
    "name2"
   ]
  },
  {
   "cell_type": "markdown",
   "metadata": {},
   "source": [
    "As you can see when we referenced index **3** the function removed **Dylan** who was listed in the **3** position."
   ]
  },
  {
   "cell_type": "code",
   "execution_count": 151,
   "metadata": {
    "collapsed": false
   },
   "outputs": [
    {
     "data": {
      "text/plain": [
       "['Brady', 'Sikander', 'Joe', 'Carlos']"
      ]
     },
     "execution_count": 151,
     "metadata": {},
     "output_type": "execute_result"
    }
   ],
   "source": [
    "names"
   ]
  },
  {
   "cell_type": "markdown",
   "metadata": {},
   "source": [
    "Just as expected **Josh** and **Dylan** are no longing in the list."
   ]
  },
  {
   "cell_type": "code",
   "execution_count": 156,
   "metadata": {
    "collapsed": false
   },
   "outputs": [
    {
     "name": "stdout",
     "output_type": "stream",
     "text": [
      "Would you like a SODA, some CHIPS, or a CANDY? (DONE to quit) chips\n",
      "Here's your chips: Fritos\n",
      "Would you like a SODA, some CHIPS, or a CANDY? (DONE to quit) done\n"
     ]
    }
   ],
   "source": [
    "sodas = [\"Pepsi\", \"Cherry Coke Zero\", \"Sprite\"]\n",
    "chips = [\"Doritos\", \"Fritos\"]\n",
    "candy = [\"Snickers\", \"M&Ms\", \"Twizzlers\"]\n",
    "\n",
    "while True:\n",
    "    choice = input(\"Would you like a SODA, some CHIPS, or a CANDY? (DONE to quit) \").lower()\n",
    "    try:\n",
    "        if choice == \"soda\":\n",
    "            snack = sodas.pop()\n",
    "        elif choice == \"chips\":\n",
    "            snack = chips.pop()\n",
    "        elif choice == \"candy\":\n",
    "            snack = candy.pop()\n",
    "        elif choice == \"done\":\n",
    "            break\n",
    "        else:\n",
    "            print(\"Sorry I didn't understand that.\")\n",
    "            continue\n",
    "    except IndexError:\n",
    "        print(\"We're all out of {}! Sorry!\".format(choice))\n",
    "    else:\n",
    "        print(\"Here's your {}: {}\".format(choice, snack))"
   ]
  },
  {
   "cell_type": "markdown",
   "metadata": {},
   "source": [
    "<a id=\"challenge4\"><a/>\n",
    "[Return to Top](#home)"
   ]
  },
  {
   "cell_type": "markdown",
   "metadata": {},
   "source": [
    "### Code Challenge 4:\n",
    "\n",
    "Alright, my list is messy! Help me clean it up!\n",
    "\n",
    "First, start by moving the 1 from index 3 to index 0. \n",
    "\n",
    "Try to do this in a single step by using both **.pop() and .insert()**. \n",
    "\n",
    "It's OK if it takes you more than one step, though!"
   ]
  },
  {
   "cell_type": "code",
   "execution_count": 165,
   "metadata": {
    "collapsed": true
   },
   "outputs": [],
   "source": [
    "messy_list = [\"a\", 2, 3, 1, False, [1, 2, 3]]\n",
    "# Your code goes below here\n",
    "zero = messy_list.pop(3)\n",
    "messy_list.insert(0, zero)"
   ]
  },
  {
   "cell_type": "code",
   "execution_count": 166,
   "metadata": {
    "collapsed": false
   },
   "outputs": [
    {
     "data": {
      "text/plain": [
       "[1, 'a', 2, 3, False, [1, 2, 3]]"
      ]
     },
     "execution_count": 166,
     "metadata": {},
     "output_type": "execute_result"
    }
   ],
   "source": [
    "messy_list"
   ]
  },
  {
   "cell_type": "markdown",
   "metadata": {},
   "source": [
    "Great! Now use .remove() and/or del to remove the string, the boolean, and the list from inside of messy_list. \n",
    "\n",
    "When you're done, messy_list should have only integers in it."
   ]
  },
  {
   "cell_type": "code",
   "execution_count": 167,
   "metadata": {
    "collapsed": false
   },
   "outputs": [],
   "source": [
    "del messy_list[5]\n",
    "del messy_list[4]\n",
    "del messy_list[1]"
   ]
  },
  {
   "cell_type": "code",
   "execution_count": 168,
   "metadata": {
    "collapsed": false
   },
   "outputs": [
    {
     "data": {
      "text/plain": [
       "[1, 2, 3]"
      ]
     },
     "execution_count": 168,
     "metadata": {},
     "output_type": "execute_result"
    }
   ],
   "source": [
    "messy_list"
   ]
  }
 ],
 "metadata": {
  "kernelspec": {
   "display_name": "Python 3",
   "language": "python",
   "name": "python3"
  },
  "language_info": {
   "codemirror_mode": {
    "name": "ipython",
    "version": 3
   },
   "file_extension": ".py",
   "mimetype": "text/x-python",
   "name": "python",
   "nbconvert_exporter": "python",
   "pygments_lexer": "ipython3",
   "version": "3.6.0"
  }
 },
 "nbformat": 4,
 "nbformat_minor": 2
}
